{
  "nbformat": 4,
  "nbformat_minor": 0,
  "metadata": {
    "colab": {
      "provenance": []
    },
    "kernelspec": {
      "name": "python3",
      "display_name": "Python 3"
    },
    "language_info": {
      "name": "python"
    }
  },
  "cells": [
    {
      "cell_type": "code",
      "execution_count": 29,
      "metadata": {
        "id": "LeHMkOYQd4xn"
      },
      "outputs": [],
      "source": [
        "import torch\n",
        "import torch.nn as nn\n",
        "import torch.nn.functional as F\n"
      ]
    },
    {
      "cell_type": "code",
      "source": [
        "# Hyperparameters\n",
        "batch_size = 16  # Number of independent sequences processed in parallel\n",
        "block_size = 32  # Maximum context length for predictions\n",
        "max_iters = 5000  # Maximum number of iterations\n",
        "eval_interval = 100  # Evaluation interval\n",
        "learning_rate = 1e-3  # Learning rate\n",
        "device = 'cuda' if torch.cuda.is_available() else 'cpu'  # Device choice (GPU if available, else CPU)\n",
        "eval_iters = 200  # Number of evaluation iterations\n",
        "n_embd = 64  # Embedding dimension\n",
        "n_head = 4  # Number of attention heads\n",
        "n_layer = 4  # Number of transformer layers\n",
        "dropout = 0.0  # Dropout rate\n",
        "torch.manual_seed(1337)  # Random seed for reproducibility\n"
      ],
      "metadata": {
        "colab": {
          "base_uri": "https://localhost:8080/"
        },
        "id": "8l6sPnBieFrU",
        "outputId": "8e6ab95d-5f3b-42ec-f6fc-7fe7be6a3c6c"
      },
      "execution_count": 2,
      "outputs": [
        {
          "output_type": "execute_result",
          "data": {
            "text/plain": [
              "<torch._C.Generator at 0x7907892c3d30>"
            ]
          },
          "metadata": {},
          "execution_count": 2
        }
      ]
    },
    {
      "cell_type": "code",
      "source": [
        "# We always start with a dataset to train on. Let's download the tiny shakespeare dataset\n",
        "!wget https://raw.githubusercontent.com/karpathy/char-rnn/master/data/tinyshakespeare/input.txt"
      ],
      "metadata": {
        "colab": {
          "base_uri": "https://localhost:8080/"
        },
        "id": "abrZt3OavUeu",
        "outputId": "29fe6962-f8fb-4194-b3dd-b53aabada534"
      },
      "execution_count": 4,
      "outputs": [
        {
          "output_type": "stream",
          "name": "stdout",
          "text": [
            "--2023-10-24 03:32:05--  https://raw.githubusercontent.com/karpathy/char-rnn/master/data/tinyshakespeare/input.txt\n",
            "Resolving raw.githubusercontent.com (raw.githubusercontent.com)... 185.199.111.133, 185.199.110.133, 185.199.109.133, ...\n",
            "Connecting to raw.githubusercontent.com (raw.githubusercontent.com)|185.199.111.133|:443... connected.\n",
            "HTTP request sent, awaiting response... 200 OK\n",
            "Length: 1115394 (1.1M) [text/plain]\n",
            "Saving to: ‘input.txt’\n",
            "\n",
            "input.txt           100%[===================>]   1.06M  --.-KB/s    in 0.07s   \n",
            "\n",
            "2023-10-24 03:32:05 (15.5 MB/s) - ‘input.txt’ saved [1115394/1115394]\n",
            "\n"
          ]
        }
      ]
    },
    {
      "cell_type": "code",
      "source": [
        "\n",
        "# read it in to inspect it\n",
        "with open('input.txt', 'r', encoding='utf-8') as f:\n",
        "    text = f.read()\n",
        "# here are all the unique characters that occur in this text\n",
        "chars = sorted(list(set(text)))\n",
        "vocab_size = len(chars)\n",
        "# create a mapping from characters to integers\n",
        "stoi = { ch:i for i,ch in enumerate(chars) }\n",
        "itos = { i:ch for i,ch in enumerate(chars) }\n",
        "\n",
        "encode = lambda s: [stoi[c] for c in s] # encoder: take a string, output a list of integers\n",
        "decode = lambda l: ''.join([itos[i] for i in l]) # decoder: take a list of integers, output a string"
      ],
      "metadata": {
        "id": "ulZJFYVSeFxl"
      },
      "execution_count": 7,
      "outputs": []
    },
    {
      "cell_type": "code",
      "source": [
        "text_length = len(text)\n",
        "print(\"Length of dataset in characters:\", text_length)\n"
      ],
      "metadata": {
        "colab": {
          "base_uri": "https://localhost:8080/"
        },
        "id": "WMou99GdeF0b",
        "outputId": "ff86b2aa-c5a3-49fb-bbcf-9e5cc601ee98"
      },
      "execution_count": 18,
      "outputs": [
        {
          "output_type": "stream",
          "name": "stdout",
          "text": [
            "Length of dataset in characters: 1115394\n"
          ]
        }
      ]
    },
    {
      "cell_type": "code",
      "source": [
        "# Display the first 500 characters of the text\n",
        "print(text[:500])\n"
      ],
      "metadata": {
        "colab": {
          "base_uri": "https://localhost:8080/"
        },
        "id": "VTbtHVakeF3A",
        "outputId": "1b854da2-9961-49d2-85f5-6ce52af2bf27"
      },
      "execution_count": 19,
      "outputs": [
        {
          "output_type": "stream",
          "name": "stdout",
          "text": [
            "First Citizen:\n",
            "Before we proceed any further, hear me speak.\n",
            "\n",
            "All:\n",
            "Speak, speak.\n",
            "\n",
            "First Citizen:\n",
            "You are all resolved rather to die than to famish?\n",
            "\n",
            "All:\n",
            "Resolved. resolved.\n",
            "\n",
            "First Citizen:\n",
            "First, you know Caius Marcius is chief enemy to the people.\n",
            "\n",
            "All:\n",
            "We know't, we know't.\n",
            "\n",
            "First Citizen:\n",
            "Let us kill him, and we'll have corn at our own price.\n",
            "Is't a verdict?\n",
            "\n",
            "All:\n",
            "No more talking on't; let it be done: away, away!\n",
            "\n",
            "Second Citizen:\n",
            "One word, good citizens.\n",
            "\n",
            "First Citizen:\n",
            "We are accounted poor\n"
          ]
        }
      ]
    },
    {
      "cell_type": "code",
      "source": [
        "# Data splitting for training and validation\n",
        "encoded_data = torch.tensor(encode(text), dtype=torch.long)\n",
        "split_ratio = 0.8  # 80% for training, 20% for validation\n",
        "split_index = int(split_ratio * len(encoded_data))\n",
        "\n",
        "train_data = encoded_data[:split_index]  # Training data\n",
        "val_data = encoded_data[split_index:]    # Validation data\n"
      ],
      "metadata": {
        "id": "s-d8RRYQeF5p"
      },
      "execution_count": 21,
      "outputs": []
    },
    {
      "cell_type": "code",
      "source": [
        "# Data loading function\n",
        "def get_batch(split):\n",
        "    # Generate a small batch of input data (x) and target data (y)\n",
        "    data = train_data if split == 'train' else val_data\n",
        "    random_indices = torch.randint(len(data) - block_size, (batch_size,))\n",
        "    x = torch.stack([data[i:i+block_size] for i in random_indices])\n",
        "    y = torch.stack([data[i+1:i+block_size+1] for i in random_indices])\n",
        "    x, y = x.to(device), y.to(device)\n",
        "    return x, y\n"
      ],
      "metadata": {
        "id": "ARax8bDoeF79"
      },
      "execution_count": 22,
      "outputs": []
    },
    {
      "cell_type": "code",
      "source": [
        "# Data loading function\n",
        "def get_batch(split):\n",
        "    # Generate a small batch of input data (x) and target data (y)\n",
        "    data = train_data if split == 'train' else val_data\n",
        "    random_indices = torch.randint(len(data) - block_size, (batch_size,))\n",
        "    x = torch.stack([data[i:i+block_size] for i in random_indices])\n",
        "    y = torch.stack([data[i+1:i+block_size+1] for i in random_indices])\n",
        "    x, y = x.to(device), y.to(device)\n",
        "    return x, y\n"
      ],
      "metadata": {
        "id": "Di_NQQw4eF-j"
      },
      "execution_count": 23,
      "outputs": []
    },
    {
      "cell_type": "code",
      "source": [
        "import torch\n",
        "import torch.nn as nn\n",
        "import torch.nn.functional as F\n",
        "\n",
        "class Head(nn.Module):\n",
        "    \"\"\"One head of self-attention\"\"\"\n",
        "\n",
        "    def __init__(self, head_size):\n",
        "        super().__init__()\n",
        "        self.key = nn.Linear(n_embd, head_size, bias=False)\n",
        "        self.query = nn.Linear(n_embd, head_size, bias=False)\n",
        "        self.value = nn.Linear(n_embd, head_size, bias=False)\n",
        "        self.register_buffer('tril', torch.tril(torch.ones(block_size, block_size)))\n",
        "        self.dropout = nn.Dropout(dropout)\n",
        "\n",
        "    def forward(self, x):\n",
        "        B, T, C = x.shape\n",
        "        k = self.key(x)   # (B, T, C)\n",
        "        q = self.query(x) # (B, T, C)\n",
        "        # Compute attention scores (\"affinities\")\n",
        "        wei = q @ k.transpose(-2, -1) * C**-0.5  # (B, T, C) @ (B, C, T) -> (B, T, T)\n",
        "        wei = wei.masked_fill(self.tril[:T, :T] == 0, float('-inf'))  # (B, T, T)\n",
        "        wei = F.softmax(wei, dim=-1)  # (B, T, T)\n",
        "        wei = self.dropout(wei)\n",
        "        # Perform the weighted aggregation of the values\n",
        "        v = self.value(x)  # (B, T, C)\n",
        "        out = wei @ v  # (B, T, T) @ (B, T, C) -> (B, T, C)\n",
        "        return out\n",
        "\n",
        "class MultiHeadAttention(nn.Module):\n",
        "    \"\"\"Multiple heads of self-attention in parallel\"\"\"\n",
        "\n",
        "    def __init__(self, num_heads, head_size):\n",
        "        super().__init__()\n",
        "        self.heads = nn.ModuleList([Head(head_size) for _ in range(num_heads)])\n",
        "        self.proj = nn.Linear(n_embd, n_embd)\n",
        "        self.dropout = nn.Dropout(dropout)\n",
        "\n",
        "    def forward(self, x):\n",
        "        out = torch.cat([h(x) for h in self.heads], dim=-1)\n",
        "        out = self.dropout(self.proj(out))\n",
        "        return out\n",
        "\n",
        "class FeedForward(nn.Module):\n",
        "    \"\"\"A simple linear layer followed by a non-linearity\"\"\"\n",
        "\n",
        "    def __init__(self, n_embd):\n",
        "        super().__init__()\n",
        "        self.net = nn.Sequential(\n",
        "            nn.Linear(n_embd, 4 * n_embd),\n",
        "            nn.ReLU(),\n",
        "            nn.Linear(4 * n_embd, n_embd),\n",
        "            nn.Dropout(dropout),\n",
        "        )\n",
        "\n",
        "    def forward(self, x):\n",
        "        return self.net(x)\n",
        "\n",
        "class Block(nn.Module):\n",
        "    \"\"\"Transformer block: communication followed by computation\"\"\"\n",
        "\n",
        "    def __init__(self, n_embd, n_head):\n",
        "        # n_embd: embedding dimension, n_head: the number of heads we'd like\n",
        "        super().__init__()\n",
        "        head_size = n_embd // n_head\n",
        "        self.sa = MultiHeadAttention(n_head, head_size)\n",
        "        self.ffwd = FeedForward(n_embd)\n",
        "        self.ln1 = nn.LayerNorm(n_embd)\n",
        "        self.ln2 = nn.LayerNorm(n_embd)\n",
        "\n",
        "    def forward(self, x):\n",
        "        x = x + self.sa(self.ln1(x))\n",
        "        x = x + self.ffwd(self.ln2(x))\n",
        "        return x\n"
      ],
      "metadata": {
        "id": "TszFQlEPeGBc"
      },
      "execution_count": 24,
      "outputs": []
    },
    {
      "cell_type": "code",
      "source": [
        "import torch\n",
        "import torch.nn as nn\n",
        "import torch.nn.functional as F\n",
        "\n",
        "class BigramLanguageModel(nn.Module):\n",
        "    \"\"\"A super simple bigram language model.\"\"\"\n",
        "\n",
        "    def __init__(self):\n",
        "        super().__init__()\n",
        "        # Embedding layers\n",
        "        self.token_embedding_table = nn.Embedding(vocab_size, n_embd)\n",
        "        self.position_embedding_table = nn.Embedding(block_size, n_embd)\n",
        "        # Transformer blocks\n",
        "        self.blocks = nn.Sequential(*[Block(n_embd, n_head=n_head) for _ in range(n_layer)])\n",
        "        # Final layers\n",
        "        self.ln_f = nn.LayerNorm(n_embd)  # Final layer norm\n",
        "        self.lm_head = nn.Linear(n_embd, vocab_size)\n",
        "\n",
        "    def forward(self, idx, targets=None):\n",
        "        B, T = idx.shape\n",
        "\n",
        "        # idx and targets are both (B, T) tensors of integers\n",
        "        tok_emb = self.token_embedding_table(idx)  # (B, T, C)\n",
        "        pos_emb = self.position_embedding_table(torch.arange(T, device=device))  # (T, C)\n",
        "        x = tok_emb + pos_emb  # (B, T, C)\n",
        "        x = self.blocks(x)  # (B, T, C)\n",
        "        x = self.ln_f(x)  # (B, T, C)\n",
        "        logits = self.lm_head(x)  # (B, T, vocab_size)\n",
        "\n",
        "        if targets is None:\n",
        "            loss = None\n",
        "        else:\n",
        "            B, T, C = logits.shape\n",
        "            logits = logits.view(B * T, C)\n",
        "            targets = targets.view(B * T)\n",
        "            loss = F.cross_entropy(logits, targets)\n",
        "\n",
        "        return logits, loss\n",
        "\n",
        "    def generate(self, idx, max_new_tokens):\n",
        "        # idx is a (B, T) array of indices in the current context\n",
        "        for _ in range(max_new_tokens):\n",
        "            # Crop idx to the last block_size tokens\n",
        "            idx_cond = idx[:, -block_size:]\n",
        "            # Get the predictions\n",
        "            logits, _ = self(idx_cond)\n",
        "            # Focus only on the last time step\n",
        "            logits = logits[:, -1, :]  # (B, C)\n",
        "            # Apply softmax to get probabilities\n",
        "            probs = F.softmax(logits, dim=-1)  # (B, C)\n",
        "            # Sample from the distribution\n",
        "            idx_next = torch.multinomial(probs, num_samples=1)  # (B, 1)\n",
        "            # Append sampled index to the running sequence\n",
        "            idx = torch.cat((idx, idx_next), dim=1)  # (B, T+1)\n",
        "        return idx\n"
      ],
      "metadata": {
        "id": "QRXbkHOOeGDx"
      },
      "execution_count": 25,
      "outputs": []
    },
    {
      "cell_type": "code",
      "source": [
        "# Create a Bigram Language Model and move it to the specified device\n",
        "model = BigramLanguageModel()\n",
        "model = model.to(device)\n",
        "\n",
        "# Print the number of parameters in the model\n",
        "num_parameters = sum(p.numel() for p in model.parameters()) / 1e6\n",
        "print(f\"Number of parameters: {num_parameters:.2f} M\")\n",
        "\n",
        "# Create a PyTorch optimizer\n",
        "optimizer = torch.optim.AdamW(model.parameters(), lr=learning_rate)\n",
        "\n",
        "for iter in range(max_iters):\n",
        "\n",
        "    # Evaluate the loss on the train and val sets at specified intervals\n",
        "    if iter % eval_interval == 0 or iter == max_iters - 1:\n",
        "        losses = estimate_loss()\n",
        "        print(f\"Step {iter}: Train loss {losses['train']:.4f}, Val loss {losses['val']:.4f}\")\n",
        "\n",
        "    # Sample a batch of data\n",
        "    xb, yb = get_batch('train')\n",
        "\n",
        "    # Compute the loss and perform optimization\n",
        "    logits, loss = model(xb, yb)\n",
        "    optimizer.zero_grad(set_to_none=True)\n",
        "    loss.backward()\n",
        "    optimizer.step()\n"
      ],
      "metadata": {
        "colab": {
          "base_uri": "https://localhost:8080/"
        },
        "id": "DLjpwVczeGGX",
        "outputId": "370ac470-6795-4cf8-ec32-2d2df281fa73"
      },
      "execution_count": 26,
      "outputs": [
        {
          "output_type": "stream",
          "name": "stdout",
          "text": [
            "Number of parameters: 0.21 M\n",
            "Step 0: Train loss 4.3561, Val loss 4.3605\n",
            "Step 100: Train loss 2.6413, Val loss 2.6688\n",
            "Step 200: Train loss 2.5104, Val loss 2.5264\n",
            "Step 300: Train loss 2.4271, Val loss 2.4613\n",
            "Step 400: Train loss 2.3627, Val loss 2.3889\n",
            "Step 500: Train loss 2.3195, Val loss 2.3468\n",
            "Step 600: Train loss 2.2574, Val loss 2.2943\n",
            "Step 700: Train loss 2.2093, Val loss 2.2476\n",
            "Step 800: Train loss 2.1757, Val loss 2.2188\n",
            "Step 900: Train loss 2.1221, Val loss 2.1850\n",
            "Step 1000: Train loss 2.0770, Val loss 2.1432\n",
            "Step 1100: Train loss 2.0513, Val loss 2.1180\n",
            "Step 1200: Train loss 2.0266, Val loss 2.0978\n",
            "Step 1300: Train loss 1.9998, Val loss 2.0716\n",
            "Step 1400: Train loss 1.9702, Val loss 2.0536\n",
            "Step 1500: Train loss 1.9507, Val loss 2.0450\n",
            "Step 1600: Train loss 1.9308, Val loss 2.0224\n",
            "Step 1700: Train loss 1.9133, Val loss 2.0204\n",
            "Step 1800: Train loss 1.8994, Val loss 2.0070\n",
            "Step 1900: Train loss 1.8848, Val loss 1.9863\n",
            "Step 2000: Train loss 1.8695, Val loss 1.9916\n",
            "Step 2100: Train loss 1.8681, Val loss 1.9915\n",
            "Step 2200: Train loss 1.8377, Val loss 1.9790\n",
            "Step 2300: Train loss 1.8230, Val loss 1.9677\n",
            "Step 2400: Train loss 1.8162, Val loss 1.9628\n",
            "Step 2500: Train loss 1.8000, Val loss 1.9501\n",
            "Step 2600: Train loss 1.7860, Val loss 1.9334\n",
            "Step 2700: Train loss 1.7937, Val loss 1.9494\n",
            "Step 2800: Train loss 1.7671, Val loss 1.9177\n",
            "Step 2900: Train loss 1.7586, Val loss 1.9166\n",
            "Step 3000: Train loss 1.7486, Val loss 1.9191\n",
            "Step 3100: Train loss 1.7475, Val loss 1.9156\n",
            "Step 3200: Train loss 1.7371, Val loss 1.9067\n",
            "Step 3300: Train loss 1.7291, Val loss 1.8994\n",
            "Step 3400: Train loss 1.7410, Val loss 1.9054\n",
            "Step 3500: Train loss 1.7207, Val loss 1.8928\n",
            "Step 3600: Train loss 1.7070, Val loss 1.8881\n",
            "Step 3700: Train loss 1.6992, Val loss 1.8635\n",
            "Step 3800: Train loss 1.6954, Val loss 1.8725\n",
            "Step 3900: Train loss 1.7034, Val loss 1.8865\n",
            "Step 4000: Train loss 1.7072, Val loss 1.8821\n",
            "Step 4100: Train loss 1.6802, Val loss 1.8828\n",
            "Step 4200: Train loss 1.6765, Val loss 1.8623\n",
            "Step 4300: Train loss 1.6873, Val loss 1.8584\n",
            "Step 4400: Train loss 1.6739, Val loss 1.8647\n",
            "Step 4500: Train loss 1.6697, Val loss 1.8674\n",
            "Step 4600: Train loss 1.6706, Val loss 1.8756\n",
            "Step 4700: Train loss 1.6609, Val loss 1.8437\n",
            "Step 4800: Train loss 1.6519, Val loss 1.8663\n",
            "Step 4900: Train loss 1.6469, Val loss 1.8468\n",
            "Step 4999: Train loss 1.6514, Val loss 1.8387\n"
          ]
        }
      ]
    },
    {
      "cell_type": "code",
      "source": [
        "# Generate text from the model\n",
        "context = torch.zeros((1, 1), dtype=torch.long, device=device)\n",
        "generated_sequence = m.generate(context, max_new_tokens=2000)[0].tolist()\n",
        "decoded_text = decode(generated_sequence)\n",
        "\n",
        "# Print the generated text\n",
        "print(decoded_text)\n"
      ],
      "metadata": {
        "colab": {
          "base_uri": "https://localhost:8080/"
        },
        "id": "Fs_RfI8zeGI_",
        "outputId": "f179e5d6-9012-4e99-effc-c1514c99656b"
      },
      "execution_count": 27,
      "outputs": [
        {
          "output_type": "stream",
          "name": "stdout",
          "text": [
            "\n",
            "Untitiusue:\n",
            "Tears that you for behon?\n",
            "\n",
            "VOlsget:\n",
            "And all ears my tiscous.\n",
            "\n",
            "CORIOLANUM:\n",
            "Well was plucks:.\n",
            "\n",
            "MO\n",
            "givant:\n",
            "Cayer wilt groon! I andam;\n",
            "Our batten Arman: I loy; what I wear wife?\n",
            "\n",
            "COMINIUS:\n",
            "Breyself my lough beriant\n",
            "Of sgentermames this ats--lick, and, lord'ss,\n",
            "to-days MinertatiAnd Secrion that\n",
            "The woat the mare is than no as men tonterreip good or my thou us maste to this whose not ome:\n",
            "Plhar tonge is\n",
            "thyself;\n",
            "I harged I canning and that fortune.\n",
            "That now set heart!\n",
            "The trunday, I lovess,\n",
            "But To art Glood infatutor landemved:\n",
            "were for in the dranted arm my mile;\n",
            "Or tower thous has ungry, wife broyen, mistress,\n",
            "How it adunterens that your gropate:\n",
            "The niession the grace of love in that he for broth worldom crown:\n",
            "To are'er notes, buts youlls!\n",
            "Nune's bout good too notle, Warwient thyself\n",
            "Briart--sit is to to meath, away for be a unnow this make.\n",
            "\n",
            "MERCUTiLe:\n",
            "Now what them crauce is would givest my art\n",
            "To hath boy your had thy pirciefition\n",
            "Some me? To begainst arm?\n",
            "\n",
            "Nay, BIive, mistrous shall e'er town sure that make berish whily life\n",
            "Ir am bese years, lord, I will scolemas, our abord.\n",
            "\n",
            "CORIOLANUS:\n",
            "You to loves done:\n",
            "I tresch, ut seess: it to garst turs.\n",
            "\n",
            "ROMEO:\n",
            "Dishal I lises; no fatwer a that Duking seel thy possion more grave.\n",
            "\n",
            "CORIOLAUNIA:\n",
            "Thou is this that imprumse:\n",
            "It sit I where lodge aboked twas tears west comes,\n",
            "Forfriements with cortinne will yonger's hath you.\n",
            "\n",
            "LORCENTER:\n",
            "Edalter, whose, to your marstion Warwics you murderers;\n",
            "And new my drued of young there is him mark'd their would pluumate,\n",
            "Friat day life as grioud don my fraunt means\n",
            "To macchow togentle, if the litther:\n",
            "And my forturse\n",
            "You marring but in glatters\n",
            "What thy shure be holtch thy king,\n",
            "Nor afity the shamesilisire.\n",
            "We hong to you. Weark bean man you as clontled.\n",
            "\n",
            "WOR Noncrown:\n",
            "You lave for\n",
            "For thespase cuntrune, to outher thou bettermion,\n",
            "That is galmant it. Here your livef.\n",
            "\n",
            "MERCUTIO:\n",
            "But, come, sirrant, I tempraints\n",
            "Nay or you,--\n",
            "\n",
            "FROTUS:\n",
            "I whose's these so piless, that housemisirievi\n"
          ]
        }
      ]
    },
    {
      "cell_type": "code",
      "source": [],
      "metadata": {
        "id": "4u8lMwQMeGt9"
      },
      "execution_count": null,
      "outputs": []
    },
    {
      "cell_type": "code",
      "source": [],
      "metadata": {
        "id": "DZB-U1XveGw0"
      },
      "execution_count": null,
      "outputs": []
    },
    {
      "cell_type": "code",
      "source": [],
      "metadata": {
        "id": "i3-qdwMOeGzK"
      },
      "execution_count": null,
      "outputs": []
    },
    {
      "cell_type": "code",
      "source": [],
      "metadata": {
        "id": "hI6tgufreG1y"
      },
      "execution_count": null,
      "outputs": []
    }
  ]
}