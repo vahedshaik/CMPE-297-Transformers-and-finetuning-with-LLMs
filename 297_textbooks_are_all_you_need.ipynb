{
  "nbformat": 4,
  "nbformat_minor": 0,
  "metadata": {
    "colab": {
      "provenance": [],
      "gpuType": "T4"
    },
    "kernelspec": {
      "name": "python3",
      "display_name": "Python 3"
    },
    "language_info": {
      "name": "python"
    },
    "accelerator": "GPU"
  },
  "cells": [
    {
      "cell_type": "code",
      "execution_count": 1,
      "metadata": {
        "colab": {
          "base_uri": "https://localhost:8080/"
        },
        "id": "KJGsrPZZR1rZ",
        "outputId": "15961355-222e-4460-965e-e27a740e0261"
      },
      "outputs": [
        {
          "output_type": "stream",
          "name": "stdout",
          "text": [
            "Collecting transformers\n",
            "  Downloading transformers-4.34.1-py3-none-any.whl (7.7 MB)\n",
            "\u001b[2K     \u001b[90m━━━━━━━━━━━━━━━━━━━━━━━━━━━━━━━━━━━━━━━━\u001b[0m \u001b[32m7.7/7.7 MB\u001b[0m \u001b[31m19.6 MB/s\u001b[0m eta \u001b[36m0:00:00\u001b[0m\n",
            "\u001b[?25hCollecting accelerate\n",
            "  Downloading accelerate-0.23.0-py3-none-any.whl (258 kB)\n",
            "\u001b[2K     \u001b[90m━━━━━━━━━━━━━━━━━━━━━━━━━━━━━━━━━━━━━━━━\u001b[0m \u001b[32m258.1/258.1 kB\u001b[0m \u001b[31m23.4 MB/s\u001b[0m eta \u001b[36m0:00:00\u001b[0m\n",
            "\u001b[?25hCollecting huggingface_hub\n",
            "  Downloading huggingface_hub-0.18.0-py3-none-any.whl (301 kB)\n",
            "\u001b[2K     \u001b[90m━━━━━━━━━━━━━━━━━━━━━━━━━━━━━━━━━━━━━━━━\u001b[0m \u001b[32m302.0/302.0 kB\u001b[0m \u001b[31m22.4 MB/s\u001b[0m eta \u001b[36m0:00:00\u001b[0m\n",
            "\u001b[?25hRequirement already satisfied: filelock in /usr/local/lib/python3.10/dist-packages (from transformers) (3.12.4)\n",
            "Requirement already satisfied: numpy>=1.17 in /usr/local/lib/python3.10/dist-packages (from transformers) (1.23.5)\n",
            "Requirement already satisfied: packaging>=20.0 in /usr/local/lib/python3.10/dist-packages (from transformers) (23.2)\n",
            "Requirement already satisfied: pyyaml>=5.1 in /usr/local/lib/python3.10/dist-packages (from transformers) (6.0.1)\n",
            "Requirement already satisfied: regex!=2019.12.17 in /usr/local/lib/python3.10/dist-packages (from transformers) (2023.6.3)\n",
            "Requirement already satisfied: requests in /usr/local/lib/python3.10/dist-packages (from transformers) (2.31.0)\n",
            "Collecting tokenizers<0.15,>=0.14 (from transformers)\n",
            "  Downloading tokenizers-0.14.1-cp310-cp310-manylinux_2_17_x86_64.manylinux2014_x86_64.whl (3.8 MB)\n",
            "\u001b[2K     \u001b[90m━━━━━━━━━━━━━━━━━━━━━━━━━━━━━━━━━━━━━━━━\u001b[0m \u001b[32m3.8/3.8 MB\u001b[0m \u001b[31m49.8 MB/s\u001b[0m eta \u001b[36m0:00:00\u001b[0m\n",
            "\u001b[?25hCollecting safetensors>=0.3.1 (from transformers)\n",
            "  Downloading safetensors-0.4.0-cp310-cp310-manylinux_2_17_x86_64.manylinux2014_x86_64.whl (1.3 MB)\n",
            "\u001b[2K     \u001b[90m━━━━━━━━━━━━━━━━━━━━━━━━━━━━━━━━━━━━━━━━\u001b[0m \u001b[32m1.3/1.3 MB\u001b[0m \u001b[31m57.2 MB/s\u001b[0m eta \u001b[36m0:00:00\u001b[0m\n",
            "\u001b[?25hRequirement already satisfied: tqdm>=4.27 in /usr/local/lib/python3.10/dist-packages (from transformers) (4.66.1)\n",
            "Requirement already satisfied: psutil in /usr/local/lib/python3.10/dist-packages (from accelerate) (5.9.5)\n",
            "Requirement already satisfied: torch>=1.10.0 in /usr/local/lib/python3.10/dist-packages (from accelerate) (2.1.0+cu118)\n",
            "Requirement already satisfied: fsspec>=2023.5.0 in /usr/local/lib/python3.10/dist-packages (from huggingface_hub) (2023.6.0)\n",
            "Requirement already satisfied: typing-extensions>=3.7.4.3 in /usr/local/lib/python3.10/dist-packages (from huggingface_hub) (4.5.0)\n",
            "Collecting huggingface_hub\n",
            "  Downloading huggingface_hub-0.17.3-py3-none-any.whl (295 kB)\n",
            "\u001b[2K     \u001b[90m━━━━━━━━━━━━━━━━━━━━━━━━━━━━━━━━━━━━━━━━\u001b[0m \u001b[32m295.0/295.0 kB\u001b[0m \u001b[31m35.3 MB/s\u001b[0m eta \u001b[36m0:00:00\u001b[0m\n",
            "\u001b[?25hRequirement already satisfied: sympy in /usr/local/lib/python3.10/dist-packages (from torch>=1.10.0->accelerate) (1.12)\n",
            "Requirement already satisfied: networkx in /usr/local/lib/python3.10/dist-packages (from torch>=1.10.0->accelerate) (3.2)\n",
            "Requirement already satisfied: jinja2 in /usr/local/lib/python3.10/dist-packages (from torch>=1.10.0->accelerate) (3.1.2)\n",
            "Requirement already satisfied: triton==2.1.0 in /usr/local/lib/python3.10/dist-packages (from torch>=1.10.0->accelerate) (2.1.0)\n",
            "Requirement already satisfied: charset-normalizer<4,>=2 in /usr/local/lib/python3.10/dist-packages (from requests->transformers) (3.3.0)\n",
            "Requirement already satisfied: idna<4,>=2.5 in /usr/local/lib/python3.10/dist-packages (from requests->transformers) (3.4)\n",
            "Requirement already satisfied: urllib3<3,>=1.21.1 in /usr/local/lib/python3.10/dist-packages (from requests->transformers) (2.0.7)\n",
            "Requirement already satisfied: certifi>=2017.4.17 in /usr/local/lib/python3.10/dist-packages (from requests->transformers) (2023.7.22)\n",
            "Requirement already satisfied: MarkupSafe>=2.0 in /usr/local/lib/python3.10/dist-packages (from jinja2->torch>=1.10.0->accelerate) (2.1.3)\n",
            "Requirement already satisfied: mpmath>=0.19 in /usr/local/lib/python3.10/dist-packages (from sympy->torch>=1.10.0->accelerate) (1.3.0)\n",
            "Installing collected packages: safetensors, huggingface_hub, tokenizers, accelerate, transformers\n",
            "Successfully installed accelerate-0.23.0 huggingface_hub-0.17.3 safetensors-0.4.0 tokenizers-0.14.1 transformers-4.34.1\n"
          ]
        }
      ],
      "source": [
        "!pip install transformers accelerate huggingface_hub"
      ]
    },
    {
      "cell_type": "code",
      "source": [
        "from transformers import AutoModelForCausalLM, AutoTokenizer\n",
        "\n",
        "model = AutoModelForCausalLM.from_pretrained(\n",
        "        \"jinaai/starcoder-1b-textbook\", device_map='auto'\n",
        "    )\n",
        "\n",
        "tokenizer = AutoTokenizer.from_pretrained(\"jinaai/starcoder-1b-textbook\")"
      ],
      "metadata": {
        "id": "NRDP7AkQSvqc"
      },
      "execution_count": 13,
      "outputs": []
    },
    {
      "cell_type": "code",
      "source": [
        "prompt = '''\n",
        "generate a python function that given a positive integer, it returns its roman numeral equivalent as a string,\n",
        "\n",
        "def int_to_mini_roman\n",
        "'''\n",
        "\n",
        "inputs = tokenizer(prompt.rstrip(), return_tensors=\"pt\").to(\"cuda\")\n",
        "\n",
        "generation_output = model.generate(\n",
        "    **inputs,\n",
        "    max_new_tokens=256,\n",
        "    eos_token_id=tokenizer.eos_token_id,\n",
        "    return_dict_in_generate=True,\n",
        ")\n",
        "\n",
        "s = generation_output.sequences[0]\n",
        "output = tokenizer.decode(s, skip_special_tokens=True)\n",
        "\n",
        "print(\"Model Output:\")\n",
        "print(output)"
      ],
      "metadata": {
        "colab": {
          "base_uri": "https://localhost:8080/"
        },
        "id": "Ba_K7RNDSvtO",
        "outputId": "1e48c677-6979-4f2b-c27e-209abe998bd7"
      },
      "execution_count": 3,
      "outputs": [
        {
          "output_type": "stream",
          "name": "stderr",
          "text": [
            "Setting `pad_token_id` to `eos_token_id`:0 for open-end generation.\n"
          ]
        },
        {
          "output_type": "stream",
          "name": "stdout",
          "text": [
            "Model Output:\n",
            "\n",
            "generate a python function that given a positive integer, it returns its roman numeral equivalent as a string,\n",
            "\n",
            "def int_to_mini_roman(num):\n",
            "    roman_dict = {1000: 'M', 900: 'CM', 500: 'D', 400: 'CD', 100: 'C', 90: 'XC', 50: 'L', 40: 'XL', 10: 'X', 9: 'IX', 5: 'V', 4: 'IV', 1: 'I'}\n",
            "    roman_num = \"\"\n",
            "    for key, value in roman_dict.items():\n",
            "        while num >= key:\n",
            "            roman_num += value\n",
            "            num -= key\n",
            "    return roman_num\n",
            "\n",
            "\n",
            "# Example usage\n",
            "print(int_to_mini_roman(2000))  # Output: \"MXXI\"\n",
            "print(int_to_mini_roman(1500))  # Output: \"MXXX\"\n",
            "print(int_to_mini_roman(1000))  # Output: \"M\"\n",
            "print(int_to_mini_roman(500))  # Output: \"D\"\n",
            "print(int_to_mini_roman(1\n"
          ]
        }
      ]
    },
    {
      "cell_type": "code",
      "source": [
        "prompt = '''\n",
        "def unique(l: list):\n",
        "    \"\"\"Return sorted unique elements in a list\n",
        "    >>> unique([5, 3, 5, 2, 3, 3, 9, 0, 123])\n",
        "    [0, 2, 3, 5, 9, 123]\n",
        "    \"\"\"\n",
        "'''"
      ],
      "metadata": {
        "id": "OHlUG5vsSvvT"
      },
      "execution_count": 4,
      "outputs": []
    },
    {
      "cell_type": "code",
      "source": [
        "inputs = tokenizer(prompt.rstrip(), return_tensors=\"pt\").to(\"cuda\")\n",
        "\n",
        "generation_output = model.generate(\n",
        "    **inputs,\n",
        "    max_new_tokens=128,\n",
        "    eos_token_id=tokenizer.eos_token_id,\n",
        "    return_dict_in_generate=True,\n",
        ")\n",
        "\n",
        "s = generation_output.sequences[0]"
      ],
      "metadata": {
        "colab": {
          "base_uri": "https://localhost:8080/"
        },
        "id": "lh7y3jzySvx6",
        "outputId": "32e05346-e900-4814-c7e8-b5dbc47461a3"
      },
      "execution_count": 5,
      "outputs": [
        {
          "output_type": "stream",
          "name": "stderr",
          "text": [
            "Setting `pad_token_id` to `eos_token_id`:0 for open-end generation.\n"
          ]
        }
      ]
    },
    {
      "cell_type": "code",
      "source": [
        "print(output)"
      ],
      "metadata": {
        "colab": {
          "base_uri": "https://localhost:8080/"
        },
        "id": "pYW2MjOpSv2n",
        "outputId": "f81e0de9-e73b-4789-f5a1-06b5eef553a8"
      },
      "execution_count": 15,
      "outputs": [
        {
          "output_type": "stream",
          "name": "stdout",
          "text": [
            "\n",
            "generate a python function that given a positive integer, it returns its roman numeral equivalent as a string,\n",
            "\n",
            "def int_to_mini_roman(num):\n",
            "    roman_dict = {1000: 'M', 900: 'CM', 500: 'D', 400: 'CD', 100: 'C', 90: 'XC', 50: 'L', 40: 'XL', 10: 'X', 9: 'IX', 5: 'V', 4: 'IV', 1: 'I'}\n",
            "    roman_num = \"\"\n",
            "    for key, value in roman_dict.items():\n",
            "        while num >= key:\n",
            "            roman_num += value\n",
            "            num -= key\n",
            "    return roman_num\n",
            "\n",
            "\n",
            "# Example usage\n",
            "print(int_to_mini_roman(2000))  # Output: \"MXXI\"\n",
            "print(int_to_mini_roman(1500))  # Output: \"MXXX\"\n",
            "print(int_to_mini_roman(1000))  # Output: \"M\"\n",
            "print(int_to_mini_roman(500))  # Output: \"D\"\n",
            "print(int_to_mini_roman(1\n"
          ]
        }
      ]
    },
    {
      "cell_type": "code",
      "source": [
        "!git clone https://github.com/jina-ai/textbook.git"
      ],
      "metadata": {
        "id": "COh0X9WoWmB2"
      },
      "execution_count": null,
      "outputs": []
    },
    {
      "cell_type": "code",
      "source": [
        "!python /content/textbook/textbook/dataset_gen/dataset_gen_cli.py push \"jinaai/code_exercises_40k\" /content/textbook/human-eval/data/HumanEval.jsonl"
      ],
      "metadata": {
        "id": "EUf9ZsGoWl_k"
      },
      "execution_count": null,
      "outputs": []
    },
    {
      "cell_type": "code",
      "source": [
        "!gzip -dk textbook/human-eval/data/HumanEval.jsonl.gz"
      ],
      "metadata": {
        "id": "x5mgJKZATuzR"
      },
      "execution_count": null,
      "outputs": []
    },
    {
      "cell_type": "code",
      "source": [
        "!apt install gh screen neovim nvtop -y"
      ],
      "metadata": {
        "id": "_UAucNbBTu1n"
      },
      "execution_count": null,
      "outputs": []
    },
    {
      "cell_type": "code",
      "source": [],
      "metadata": {
        "id": "LIYsi7ErTu4h"
      },
      "execution_count": null,
      "outputs": []
    },
    {
      "cell_type": "code",
      "source": [],
      "metadata": {
        "id": "AIxzxG9LTu61"
      },
      "execution_count": null,
      "outputs": []
    }
  ]
}